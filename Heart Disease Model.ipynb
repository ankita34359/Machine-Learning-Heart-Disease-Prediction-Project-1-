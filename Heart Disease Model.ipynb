{
 "cells": [
  {
   "cell_type": "code",
   "execution_count": 4,
   "id": "d082547a-7df3-4727-8139-7cee98f4ec0b",
   "metadata": {},
   "outputs": [],
   "source": [
    "# Importing pandas as pd and numpy as np\n",
    "\n",
    "import pandas as pd\n",
    "import numpy as np"
   ]
  },
  {
   "cell_type": "code",
   "execution_count": 5,
   "id": "72ac65b9-c0f0-4ab6-8b5a-e6d94e79d045",
   "metadata": {},
   "outputs": [],
   "source": [
    "# Loading the dataset into a pandas DataFrame\n",
    "df = pd.read_csv(\"heart_disease_data.csv\")"
   ]
  },
  {
   "cell_type": "code",
   "execution_count": 6,
   "id": "70eae129-cd15-4cb9-b4ec-9d78a3d11004",
   "metadata": {},
   "outputs": [
    {
     "data": {
      "text/html": [
       "<div>\n",
       "<style scoped>\n",
       "    .dataframe tbody tr th:only-of-type {\n",
       "        vertical-align: middle;\n",
       "    }\n",
       "\n",
       "    .dataframe tbody tr th {\n",
       "        vertical-align: top;\n",
       "    }\n",
       "\n",
       "    .dataframe thead th {\n",
       "        text-align: right;\n",
       "    }\n",
       "</style>\n",
       "<table border=\"1\" class=\"dataframe\">\n",
       "  <thead>\n",
       "    <tr style=\"text-align: right;\">\n",
       "      <th></th>\n",
       "      <th>male</th>\n",
       "      <th>age</th>\n",
       "      <th>education</th>\n",
       "      <th>currentSmoker</th>\n",
       "      <th>cigsPerDay</th>\n",
       "      <th>BPMeds</th>\n",
       "      <th>prevalentStroke</th>\n",
       "      <th>prevalentHyp</th>\n",
       "      <th>diabetes</th>\n",
       "      <th>totChol</th>\n",
       "      <th>sysBP</th>\n",
       "      <th>diaBP</th>\n",
       "      <th>BMI</th>\n",
       "      <th>heartRate</th>\n",
       "      <th>glucose</th>\n",
       "      <th>TenYearCHD</th>\n",
       "    </tr>\n",
       "  </thead>\n",
       "  <tbody>\n",
       "    <tr>\n",
       "      <th>0</th>\n",
       "      <td>1</td>\n",
       "      <td>39</td>\n",
       "      <td>4.0</td>\n",
       "      <td>0</td>\n",
       "      <td>0.0</td>\n",
       "      <td>0.0</td>\n",
       "      <td>0</td>\n",
       "      <td>0</td>\n",
       "      <td>0</td>\n",
       "      <td>195.0</td>\n",
       "      <td>106.0</td>\n",
       "      <td>70.0</td>\n",
       "      <td>26.97</td>\n",
       "      <td>80.0</td>\n",
       "      <td>77.0</td>\n",
       "      <td>0</td>\n",
       "    </tr>\n",
       "  </tbody>\n",
       "</table>\n",
       "</div>"
      ],
      "text/plain": [
       "   male  age  education  currentSmoker  cigsPerDay  BPMeds  prevalentStroke  \\\n",
       "0     1   39        4.0              0         0.0     0.0                0   \n",
       "\n",
       "   prevalentHyp  diabetes  totChol  sysBP  diaBP    BMI  heartRate  glucose  \\\n",
       "0             0         0    195.0  106.0   70.0  26.97       80.0     77.0   \n",
       "\n",
       "   TenYearCHD  \n",
       "0           0  "
      ]
     },
     "execution_count": 6,
     "metadata": {},
     "output_type": "execute_result"
    }
   ],
   "source": [
    "# Displaying the first row of the dataset\n",
    "df.head(1)"
   ]
  },
  {
   "cell_type": "code",
   "execution_count": 7,
   "id": "635c35e9-485c-4b38-8cb4-5b87c43e066c",
   "metadata": {},
   "outputs": [
    {
     "name": "stdout",
     "output_type": "stream",
     "text": [
      "<class 'pandas.core.frame.DataFrame'>\n",
      "RangeIndex: 4238 entries, 0 to 4237\n",
      "Data columns (total 16 columns):\n",
      " #   Column           Non-Null Count  Dtype  \n",
      "---  ------           --------------  -----  \n",
      " 0   male             4238 non-null   int64  \n",
      " 1   age              4238 non-null   int64  \n",
      " 2   education        4133 non-null   float64\n",
      " 3   currentSmoker    4238 non-null   int64  \n",
      " 4   cigsPerDay       4209 non-null   float64\n",
      " 5   BPMeds           4185 non-null   float64\n",
      " 6   prevalentStroke  4238 non-null   int64  \n",
      " 7   prevalentHyp     4238 non-null   int64  \n",
      " 8   diabetes         4238 non-null   int64  \n",
      " 9   totChol          4188 non-null   float64\n",
      " 10  sysBP            4238 non-null   float64\n",
      " 11  diaBP            4238 non-null   float64\n",
      " 12  BMI              4219 non-null   float64\n",
      " 13  heartRate        4237 non-null   float64\n",
      " 14  glucose          3850 non-null   float64\n",
      " 15  TenYearCHD       4238 non-null   int64  \n",
      "dtypes: float64(9), int64(7)\n",
      "memory usage: 529.9 KB\n"
     ]
    }
   ],
   "source": [
    "# Checking the information related to dataset\n",
    "\n",
    "df.info()"
   ]
  },
  {
   "cell_type": "code",
   "execution_count": 8,
   "id": "6c8971a3-1203-4fba-b9f6-95e9175b966d",
   "metadata": {},
   "outputs": [
    {
     "data": {
      "text/plain": [
       "<bound method NDFrame.describe of       male  age  education  currentSmoker  cigsPerDay  BPMeds  \\\n",
       "0        1   39        4.0              0         0.0     0.0   \n",
       "1        0   46        2.0              0         0.0     0.0   \n",
       "2        1   48        1.0              1        20.0     0.0   \n",
       "3        0   61        3.0              1        30.0     0.0   \n",
       "4        0   46        3.0              1        23.0     0.0   \n",
       "...    ...  ...        ...            ...         ...     ...   \n",
       "4233     1   50        1.0              1         1.0     0.0   \n",
       "4234     1   51        3.0              1        43.0     0.0   \n",
       "4235     0   48        2.0              1        20.0     NaN   \n",
       "4236     0   44        1.0              1        15.0     0.0   \n",
       "4237     0   52        2.0              0         0.0     0.0   \n",
       "\n",
       "      prevalentStroke  prevalentHyp  diabetes  totChol  sysBP  diaBP    BMI  \\\n",
       "0                   0             0         0    195.0  106.0   70.0  26.97   \n",
       "1                   0             0         0    250.0  121.0   81.0  28.73   \n",
       "2                   0             0         0    245.0  127.5   80.0  25.34   \n",
       "3                   0             1         0    225.0  150.0   95.0  28.58   \n",
       "4                   0             0         0    285.0  130.0   84.0  23.10   \n",
       "...               ...           ...       ...      ...    ...    ...    ...   \n",
       "4233                0             1         0    313.0  179.0   92.0  25.97   \n",
       "4234                0             0         0    207.0  126.5   80.0  19.71   \n",
       "4235                0             0         0    248.0  131.0   72.0  22.00   \n",
       "4236                0             0         0    210.0  126.5   87.0  19.16   \n",
       "4237                0             0         0    269.0  133.5   83.0  21.47   \n",
       "\n",
       "      heartRate  glucose  TenYearCHD  \n",
       "0          80.0     77.0           0  \n",
       "1          95.0     76.0           0  \n",
       "2          75.0     70.0           0  \n",
       "3          65.0    103.0           1  \n",
       "4          85.0     85.0           0  \n",
       "...         ...      ...         ...  \n",
       "4233       66.0     86.0           1  \n",
       "4234       65.0     68.0           0  \n",
       "4235       84.0     86.0           0  \n",
       "4236       86.0      NaN           0  \n",
       "4237       80.0    107.0           0  \n",
       "\n",
       "[4238 rows x 16 columns]>"
      ]
     },
     "execution_count": 8,
     "metadata": {},
     "output_type": "execute_result"
    }
   ],
   "source": [
    "# Describing the dataset\n",
    "\n",
    "df.describe"
   ]
  },
  {
   "cell_type": "code",
   "execution_count": 9,
   "id": "2d52e85c-ccaa-4d49-ad04-30951335a966",
   "metadata": {},
   "outputs": [
    {
     "data": {
      "text/plain": [
       "(4238, 16)"
      ]
     },
     "execution_count": 9,
     "metadata": {},
     "output_type": "execute_result"
    }
   ],
   "source": [
    "# Checking number of rows and columns\n",
    "\n",
    "df.shape"
   ]
  },
  {
   "cell_type": "code",
   "execution_count": 10,
   "id": "0ea37dcc-a2e7-432c-994c-4c359d0e1375",
   "metadata": {},
   "outputs": [
    {
     "data": {
      "text/plain": [
       "0    3594\n",
       "1     644\n",
       "Name: TenYearCHD, dtype: int64"
      ]
     },
     "execution_count": 10,
     "metadata": {},
     "output_type": "execute_result"
    }
   ],
   "source": [
    "# Counting the value of having chances of CHD \n",
    "\n",
    "df[\"TenYearCHD\"].value_counts()"
   ]
  },
  {
   "cell_type": "code",
   "execution_count": 11,
   "id": "de7fb563-9083-4eb6-a326-a72485807ce6",
   "metadata": {},
   "outputs": [
    {
     "data": {
      "text/html": [
       "<div>\n",
       "<style scoped>\n",
       "    .dataframe tbody tr th:only-of-type {\n",
       "        vertical-align: middle;\n",
       "    }\n",
       "\n",
       "    .dataframe tbody tr th {\n",
       "        vertical-align: top;\n",
       "    }\n",
       "\n",
       "    .dataframe thead th {\n",
       "        text-align: right;\n",
       "    }\n",
       "</style>\n",
       "<table border=\"1\" class=\"dataframe\">\n",
       "  <thead>\n",
       "    <tr style=\"text-align: right;\">\n",
       "      <th></th>\n",
       "      <th>male</th>\n",
       "      <th>age</th>\n",
       "      <th>education</th>\n",
       "      <th>currentSmoker</th>\n",
       "      <th>cigsPerDay</th>\n",
       "      <th>BPMeds</th>\n",
       "      <th>prevalentStroke</th>\n",
       "      <th>prevalentHyp</th>\n",
       "      <th>diabetes</th>\n",
       "      <th>totChol</th>\n",
       "      <th>sysBP</th>\n",
       "      <th>diaBP</th>\n",
       "      <th>BMI</th>\n",
       "      <th>heartRate</th>\n",
       "      <th>glucose</th>\n",
       "      <th>TenYearCHD</th>\n",
       "    </tr>\n",
       "  </thead>\n",
       "  <tbody>\n",
       "    <tr>\n",
       "      <th>4233</th>\n",
       "      <td>1</td>\n",
       "      <td>50</td>\n",
       "      <td>1.0</td>\n",
       "      <td>1</td>\n",
       "      <td>1.0</td>\n",
       "      <td>0.0</td>\n",
       "      <td>0</td>\n",
       "      <td>1</td>\n",
       "      <td>0</td>\n",
       "      <td>313.0</td>\n",
       "      <td>179.0</td>\n",
       "      <td>92.0</td>\n",
       "      <td>25.97</td>\n",
       "      <td>66.0</td>\n",
       "      <td>86.0</td>\n",
       "      <td>1</td>\n",
       "    </tr>\n",
       "    <tr>\n",
       "      <th>4234</th>\n",
       "      <td>1</td>\n",
       "      <td>51</td>\n",
       "      <td>3.0</td>\n",
       "      <td>1</td>\n",
       "      <td>43.0</td>\n",
       "      <td>0.0</td>\n",
       "      <td>0</td>\n",
       "      <td>0</td>\n",
       "      <td>0</td>\n",
       "      <td>207.0</td>\n",
       "      <td>126.5</td>\n",
       "      <td>80.0</td>\n",
       "      <td>19.71</td>\n",
       "      <td>65.0</td>\n",
       "      <td>68.0</td>\n",
       "      <td>0</td>\n",
       "    </tr>\n",
       "    <tr>\n",
       "      <th>4235</th>\n",
       "      <td>0</td>\n",
       "      <td>48</td>\n",
       "      <td>2.0</td>\n",
       "      <td>1</td>\n",
       "      <td>20.0</td>\n",
       "      <td>NaN</td>\n",
       "      <td>0</td>\n",
       "      <td>0</td>\n",
       "      <td>0</td>\n",
       "      <td>248.0</td>\n",
       "      <td>131.0</td>\n",
       "      <td>72.0</td>\n",
       "      <td>22.00</td>\n",
       "      <td>84.0</td>\n",
       "      <td>86.0</td>\n",
       "      <td>0</td>\n",
       "    </tr>\n",
       "    <tr>\n",
       "      <th>4236</th>\n",
       "      <td>0</td>\n",
       "      <td>44</td>\n",
       "      <td>1.0</td>\n",
       "      <td>1</td>\n",
       "      <td>15.0</td>\n",
       "      <td>0.0</td>\n",
       "      <td>0</td>\n",
       "      <td>0</td>\n",
       "      <td>0</td>\n",
       "      <td>210.0</td>\n",
       "      <td>126.5</td>\n",
       "      <td>87.0</td>\n",
       "      <td>19.16</td>\n",
       "      <td>86.0</td>\n",
       "      <td>NaN</td>\n",
       "      <td>0</td>\n",
       "    </tr>\n",
       "    <tr>\n",
       "      <th>4237</th>\n",
       "      <td>0</td>\n",
       "      <td>52</td>\n",
       "      <td>2.0</td>\n",
       "      <td>0</td>\n",
       "      <td>0.0</td>\n",
       "      <td>0.0</td>\n",
       "      <td>0</td>\n",
       "      <td>0</td>\n",
       "      <td>0</td>\n",
       "      <td>269.0</td>\n",
       "      <td>133.5</td>\n",
       "      <td>83.0</td>\n",
       "      <td>21.47</td>\n",
       "      <td>80.0</td>\n",
       "      <td>107.0</td>\n",
       "      <td>0</td>\n",
       "    </tr>\n",
       "  </tbody>\n",
       "</table>\n",
       "</div>"
      ],
      "text/plain": [
       "      male  age  education  currentSmoker  cigsPerDay  BPMeds  \\\n",
       "4233     1   50        1.0              1         1.0     0.0   \n",
       "4234     1   51        3.0              1        43.0     0.0   \n",
       "4235     0   48        2.0              1        20.0     NaN   \n",
       "4236     0   44        1.0              1        15.0     0.0   \n",
       "4237     0   52        2.0              0         0.0     0.0   \n",
       "\n",
       "      prevalentStroke  prevalentHyp  diabetes  totChol  sysBP  diaBP    BMI  \\\n",
       "4233                0             1         0    313.0  179.0   92.0  25.97   \n",
       "4234                0             0         0    207.0  126.5   80.0  19.71   \n",
       "4235                0             0         0    248.0  131.0   72.0  22.00   \n",
       "4236                0             0         0    210.0  126.5   87.0  19.16   \n",
       "4237                0             0         0    269.0  133.5   83.0  21.47   \n",
       "\n",
       "      heartRate  glucose  TenYearCHD  \n",
       "4233       66.0     86.0           1  \n",
       "4234       65.0     68.0           0  \n",
       "4235       84.0     86.0           0  \n",
       "4236       86.0      NaN           0  \n",
       "4237       80.0    107.0           0  "
      ]
     },
     "execution_count": 11,
     "metadata": {},
     "output_type": "execute_result"
    }
   ],
   "source": [
    "# Displaying the last five rows of the dataset\n",
    "df.tail()"
   ]
  },
  {
   "cell_type": "code",
   "execution_count": 12,
   "id": "1207bf71-3968-4d97-a453-3a86c4ea51fd",
   "metadata": {},
   "outputs": [
    {
     "data": {
      "text/plain": [
       "male                 0\n",
       "age                  0\n",
       "education          105\n",
       "currentSmoker        0\n",
       "cigsPerDay          29\n",
       "BPMeds              53\n",
       "prevalentStroke      0\n",
       "prevalentHyp         0\n",
       "diabetes             0\n",
       "totChol             50\n",
       "sysBP                0\n",
       "diaBP                0\n",
       "BMI                 19\n",
       "heartRate            1\n",
       "glucose            388\n",
       "TenYearCHD           0\n",
       "dtype: int64"
      ]
     },
     "execution_count": 12,
     "metadata": {},
     "output_type": "execute_result"
    }
   ],
   "source": [
    "# Step:1 Checking NaN values\n",
    "\n",
    "df.isna().sum()"
   ]
  },
  {
   "cell_type": "code",
   "execution_count": 13,
   "id": "ebc5057f-8751-4852-a116-80d85b1859d1",
   "metadata": {},
   "outputs": [],
   "source": [
    "# We know that if there are NaN values in the dataset that we can drop the 5% of data. \n",
    "# But if NaN values are more that 5% of total dataset then we can't drop it.\n",
    "# The 5% of 4000 is 200 so we can drop BMI,heartRate,totChol,BPMeds,cigsPerDay."
   ]
  },
  {
   "cell_type": "code",
   "execution_count": 14,
   "id": "9ceff72e-9c2d-4c59-8058-63f637548735",
   "metadata": {},
   "outputs": [],
   "source": [
    "# Let's drop the columns\n",
    "\n",
    "df = df.dropna(subset=[\"BMI\"])\n",
    "df = df.dropna(subset=[\"heartRate\"])\n",
    "df = df.dropna(subset=[\"totChol\"])\n",
    "df = df.dropna(subset=[\"BPMeds\"])\n",
    "df = df.dropna(subset=[\"cigsPerDay\"])"
   ]
  },
  {
   "cell_type": "code",
   "execution_count": 15,
   "id": "4c740174-9e6b-41a7-855e-3752341e5ec2",
   "metadata": {},
   "outputs": [],
   "source": [
    "# Let's fill the education and glucose NaN rows with the mean values of that particular column\n",
    "\n",
    "glucose_mean = df[\"glucose\"].mean()\n",
    "df[\"glucose\"] = df[\"glucose\"].fillna(glucose_mean)\n",
    "# print(glucose_mean)\n",
    "\n",
    "education_mean = df[\"education\"].mean()\n",
    "df[\"education\"] = df[\"education\"].fillna(education_mean)\n",
    "# print(education_mean)"
   ]
  },
  {
   "cell_type": "code",
   "execution_count": 16,
   "id": "0fd5bb16-156f-412a-829a-69602441e80d",
   "metadata": {},
   "outputs": [
    {
     "data": {
      "text/plain": [
       "male               0\n",
       "age                0\n",
       "education          0\n",
       "currentSmoker      0\n",
       "cigsPerDay         0\n",
       "BPMeds             0\n",
       "prevalentStroke    0\n",
       "prevalentHyp       0\n",
       "diabetes           0\n",
       "totChol            0\n",
       "sysBP              0\n",
       "diaBP              0\n",
       "BMI                0\n",
       "heartRate          0\n",
       "glucose            0\n",
       "TenYearCHD         0\n",
       "dtype: int64"
      ]
     },
     "execution_count": 16,
     "metadata": {},
     "output_type": "execute_result"
    }
   ],
   "source": [
    "# Again checking NaN values\n",
    "\n",
    "df.isna().sum()"
   ]
  },
  {
   "cell_type": "code",
   "execution_count": 17,
   "id": "29d939d1-3925-4f7e-9b5f-d9a6bdb2896f",
   "metadata": {},
   "outputs": [],
   "source": [
    "# Step 2: Encoding of categorical data\n",
    "\n",
    "# In this dataset there is no categorical data so we do not nedd to perform this step."
   ]
  },
  {
   "cell_type": "code",
   "execution_count": 18,
   "id": "17950313-f2cc-49ff-bbb2-c85cfe96bed7",
   "metadata": {},
   "outputs": [],
   "source": [
    "# Step 3: Normalization of Numerical data\n",
    "\n",
    "# There are many columns which needs to do normalization like age,totChol,sysBP,diaBP,BMI,heartRate,glucose,cigsPerDay\n"
   ]
  },
  {
   "cell_type": "code",
   "execution_count": 19,
   "id": "c351365a-10f3-483d-9e03-44d54ba0f23e",
   "metadata": {},
   "outputs": [],
   "source": [
    "# Imprting MinMaxScaler for data preprocessing\n",
    "\n",
    "from sklearn.preprocessing import MinMaxScaler"
   ]
  },
  {
   "cell_type": "code",
   "execution_count": 20,
   "id": "942a0f85-aac3-44ee-97be-82447ea30564",
   "metadata": {},
   "outputs": [],
   "source": [
    "# Normalizing the age,totChol,sysBP,diaBP,BMI,heartRate,glucose and cigsPerDay\n",
    "\n",
    "df[\"age\"] = MinMaxScaler().fit_transform(df[[\"age\"]])\n",
    "df[\"totChol\"] = MinMaxScaler().fit_transform(df[[\"totChol\"]])\n",
    "df[\"sysBP\"] = MinMaxScaler().fit_transform(df[[\"sysBP\"]])\n",
    "df[\"diaBP\"] = MinMaxScaler().fit_transform(df[[\"diaBP\"]])\n",
    "df[\"BMI\"] = MinMaxScaler().fit_transform(df[[\"BMI\"]])\n",
    "df[\"heartRate\"] = MinMaxScaler().fit_transform(df[[\"heartRate\"]])\n",
    "df[\"glucose\"] = MinMaxScaler().fit_transform(df[[\"glucose\"]])\n",
    "df[\"cigsPerDay\"] = MinMaxScaler().fit_transform(df[[\"cigsPerDay\"]])"
   ]
  },
  {
   "cell_type": "code",
   "execution_count": 21,
   "id": "da82a6d4-e382-458b-93a7-491ea2a2694f",
   "metadata": {},
   "outputs": [
    {
     "data": {
      "text/html": [
       "<div>\n",
       "<style scoped>\n",
       "    .dataframe tbody tr th:only-of-type {\n",
       "        vertical-align: middle;\n",
       "    }\n",
       "\n",
       "    .dataframe tbody tr th {\n",
       "        vertical-align: top;\n",
       "    }\n",
       "\n",
       "    .dataframe thead th {\n",
       "        text-align: right;\n",
       "    }\n",
       "</style>\n",
       "<table border=\"1\" class=\"dataframe\">\n",
       "  <thead>\n",
       "    <tr style=\"text-align: right;\">\n",
       "      <th></th>\n",
       "      <th>male</th>\n",
       "      <th>age</th>\n",
       "      <th>education</th>\n",
       "      <th>currentSmoker</th>\n",
       "      <th>cigsPerDay</th>\n",
       "      <th>BPMeds</th>\n",
       "      <th>prevalentStroke</th>\n",
       "      <th>prevalentHyp</th>\n",
       "      <th>diabetes</th>\n",
       "      <th>totChol</th>\n",
       "      <th>sysBP</th>\n",
       "      <th>diaBP</th>\n",
       "      <th>BMI</th>\n",
       "      <th>heartRate</th>\n",
       "      <th>glucose</th>\n",
       "      <th>TenYearCHD</th>\n",
       "    </tr>\n",
       "  </thead>\n",
       "  <tbody>\n",
       "    <tr>\n",
       "      <th>0</th>\n",
       "      <td>1</td>\n",
       "      <td>0.184211</td>\n",
       "      <td>4.0</td>\n",
       "      <td>0</td>\n",
       "      <td>0.000000</td>\n",
       "      <td>0.0</td>\n",
       "      <td>0</td>\n",
       "      <td>0</td>\n",
       "      <td>0</td>\n",
       "      <td>0.140652</td>\n",
       "      <td>0.106383</td>\n",
       "      <td>0.232804</td>\n",
       "      <td>0.277024</td>\n",
       "      <td>0.363636</td>\n",
       "      <td>0.104520</td>\n",
       "      <td>0</td>\n",
       "    </tr>\n",
       "    <tr>\n",
       "      <th>1</th>\n",
       "      <td>0</td>\n",
       "      <td>0.368421</td>\n",
       "      <td>2.0</td>\n",
       "      <td>0</td>\n",
       "      <td>0.000000</td>\n",
       "      <td>0.0</td>\n",
       "      <td>0</td>\n",
       "      <td>0</td>\n",
       "      <td>0</td>\n",
       "      <td>0.234991</td>\n",
       "      <td>0.177305</td>\n",
       "      <td>0.349206</td>\n",
       "      <td>0.319680</td>\n",
       "      <td>0.515152</td>\n",
       "      <td>0.101695</td>\n",
       "      <td>0</td>\n",
       "    </tr>\n",
       "    <tr>\n",
       "      <th>2</th>\n",
       "      <td>1</td>\n",
       "      <td>0.421053</td>\n",
       "      <td>1.0</td>\n",
       "      <td>1</td>\n",
       "      <td>0.285714</td>\n",
       "      <td>0.0</td>\n",
       "      <td>0</td>\n",
       "      <td>0</td>\n",
       "      <td>0</td>\n",
       "      <td>0.226415</td>\n",
       "      <td>0.208038</td>\n",
       "      <td>0.338624</td>\n",
       "      <td>0.237518</td>\n",
       "      <td>0.313131</td>\n",
       "      <td>0.084746</td>\n",
       "      <td>0</td>\n",
       "    </tr>\n",
       "    <tr>\n",
       "      <th>3</th>\n",
       "      <td>0</td>\n",
       "      <td>0.763158</td>\n",
       "      <td>3.0</td>\n",
       "      <td>1</td>\n",
       "      <td>0.428571</td>\n",
       "      <td>0.0</td>\n",
       "      <td>0</td>\n",
       "      <td>1</td>\n",
       "      <td>0</td>\n",
       "      <td>0.192110</td>\n",
       "      <td>0.314421</td>\n",
       "      <td>0.497354</td>\n",
       "      <td>0.316045</td>\n",
       "      <td>0.212121</td>\n",
       "      <td>0.177966</td>\n",
       "      <td>1</td>\n",
       "    </tr>\n",
       "    <tr>\n",
       "      <th>4</th>\n",
       "      <td>0</td>\n",
       "      <td>0.368421</td>\n",
       "      <td>3.0</td>\n",
       "      <td>1</td>\n",
       "      <td>0.328571</td>\n",
       "      <td>0.0</td>\n",
       "      <td>0</td>\n",
       "      <td>0</td>\n",
       "      <td>0</td>\n",
       "      <td>0.295026</td>\n",
       "      <td>0.219858</td>\n",
       "      <td>0.380952</td>\n",
       "      <td>0.183228</td>\n",
       "      <td>0.414141</td>\n",
       "      <td>0.127119</td>\n",
       "      <td>0</td>\n",
       "    </tr>\n",
       "  </tbody>\n",
       "</table>\n",
       "</div>"
      ],
      "text/plain": [
       "   male       age  education  currentSmoker  cigsPerDay  BPMeds  \\\n",
       "0     1  0.184211        4.0              0    0.000000     0.0   \n",
       "1     0  0.368421        2.0              0    0.000000     0.0   \n",
       "2     1  0.421053        1.0              1    0.285714     0.0   \n",
       "3     0  0.763158        3.0              1    0.428571     0.0   \n",
       "4     0  0.368421        3.0              1    0.328571     0.0   \n",
       "\n",
       "   prevalentStroke  prevalentHyp  diabetes   totChol     sysBP     diaBP  \\\n",
       "0                0             0         0  0.140652  0.106383  0.232804   \n",
       "1                0             0         0  0.234991  0.177305  0.349206   \n",
       "2                0             0         0  0.226415  0.208038  0.338624   \n",
       "3                0             1         0  0.192110  0.314421  0.497354   \n",
       "4                0             0         0  0.295026  0.219858  0.380952   \n",
       "\n",
       "        BMI  heartRate   glucose  TenYearCHD  \n",
       "0  0.277024   0.363636  0.104520           0  \n",
       "1  0.319680   0.515152  0.101695           0  \n",
       "2  0.237518   0.313131  0.084746           0  \n",
       "3  0.316045   0.212121  0.177966           1  \n",
       "4  0.183228   0.414141  0.127119           0  "
      ]
     },
     "execution_count": 21,
     "metadata": {},
     "output_type": "execute_result"
    }
   ],
   "source": [
    "df.head()"
   ]
  },
  {
   "cell_type": "code",
   "execution_count": 22,
   "id": "0396c9eb-deff-4e9c-8102-b033a9cb6330",
   "metadata": {},
   "outputs": [],
   "source": [
    "# We will separate the Feature Varible and Target Variable\n",
    "\n",
    "features = [\"male\", \"age\", \"currentSmoker\", \"cigsPerDay\", \"BPMeds\", \"prevalentStroke\", \"prevalentHyp\", \"diabetes\", \"totChol\", \"sysBP\", \"diaBP\", \"BMI\", \"heartRate\", \"glucose\"]\n",
    "X = df[features].values\n",
    "Y = df[\"TenYearCHD\"].values"
   ]
  },
  {
   "cell_type": "code",
   "execution_count": 23,
   "id": "76dd5c72-ee1a-4f76-a667-347707528910",
   "metadata": {},
   "outputs": [
    {
     "data": {
      "text/html": [
       "<div>\n",
       "<style scoped>\n",
       "    .dataframe tbody tr th:only-of-type {\n",
       "        vertical-align: middle;\n",
       "    }\n",
       "\n",
       "    .dataframe tbody tr th {\n",
       "        vertical-align: top;\n",
       "    }\n",
       "\n",
       "    .dataframe thead th {\n",
       "        text-align: right;\n",
       "    }\n",
       "</style>\n",
       "<table border=\"1\" class=\"dataframe\">\n",
       "  <thead>\n",
       "    <tr style=\"text-align: right;\">\n",
       "      <th></th>\n",
       "      <th>male</th>\n",
       "      <th>age</th>\n",
       "      <th>currentSmoker</th>\n",
       "      <th>cigsPerDay</th>\n",
       "      <th>BPMeds</th>\n",
       "      <th>prevalentStroke</th>\n",
       "      <th>prevalentHyp</th>\n",
       "      <th>diabetes</th>\n",
       "      <th>totChol</th>\n",
       "      <th>sysBP</th>\n",
       "      <th>diaBP</th>\n",
       "      <th>BMI</th>\n",
       "      <th>heartRate</th>\n",
       "      <th>glucose</th>\n",
       "    </tr>\n",
       "  </thead>\n",
       "  <tbody>\n",
       "    <tr>\n",
       "      <th>0</th>\n",
       "      <td>1</td>\n",
       "      <td>0.184211</td>\n",
       "      <td>0</td>\n",
       "      <td>0.000000</td>\n",
       "      <td>0.0</td>\n",
       "      <td>0</td>\n",
       "      <td>0</td>\n",
       "      <td>0</td>\n",
       "      <td>0.140652</td>\n",
       "      <td>0.106383</td>\n",
       "      <td>0.232804</td>\n",
       "      <td>0.277024</td>\n",
       "      <td>0.363636</td>\n",
       "      <td>0.104520</td>\n",
       "    </tr>\n",
       "    <tr>\n",
       "      <th>1</th>\n",
       "      <td>0</td>\n",
       "      <td>0.368421</td>\n",
       "      <td>0</td>\n",
       "      <td>0.000000</td>\n",
       "      <td>0.0</td>\n",
       "      <td>0</td>\n",
       "      <td>0</td>\n",
       "      <td>0</td>\n",
       "      <td>0.234991</td>\n",
       "      <td>0.177305</td>\n",
       "      <td>0.349206</td>\n",
       "      <td>0.319680</td>\n",
       "      <td>0.515152</td>\n",
       "      <td>0.101695</td>\n",
       "    </tr>\n",
       "    <tr>\n",
       "      <th>2</th>\n",
       "      <td>1</td>\n",
       "      <td>0.421053</td>\n",
       "      <td>1</td>\n",
       "      <td>0.285714</td>\n",
       "      <td>0.0</td>\n",
       "      <td>0</td>\n",
       "      <td>0</td>\n",
       "      <td>0</td>\n",
       "      <td>0.226415</td>\n",
       "      <td>0.208038</td>\n",
       "      <td>0.338624</td>\n",
       "      <td>0.237518</td>\n",
       "      <td>0.313131</td>\n",
       "      <td>0.084746</td>\n",
       "    </tr>\n",
       "    <tr>\n",
       "      <th>3</th>\n",
       "      <td>0</td>\n",
       "      <td>0.763158</td>\n",
       "      <td>1</td>\n",
       "      <td>0.428571</td>\n",
       "      <td>0.0</td>\n",
       "      <td>0</td>\n",
       "      <td>1</td>\n",
       "      <td>0</td>\n",
       "      <td>0.192110</td>\n",
       "      <td>0.314421</td>\n",
       "      <td>0.497354</td>\n",
       "      <td>0.316045</td>\n",
       "      <td>0.212121</td>\n",
       "      <td>0.177966</td>\n",
       "    </tr>\n",
       "    <tr>\n",
       "      <th>4</th>\n",
       "      <td>0</td>\n",
       "      <td>0.368421</td>\n",
       "      <td>1</td>\n",
       "      <td>0.328571</td>\n",
       "      <td>0.0</td>\n",
       "      <td>0</td>\n",
       "      <td>0</td>\n",
       "      <td>0</td>\n",
       "      <td>0.295026</td>\n",
       "      <td>0.219858</td>\n",
       "      <td>0.380952</td>\n",
       "      <td>0.183228</td>\n",
       "      <td>0.414141</td>\n",
       "      <td>0.127119</td>\n",
       "    </tr>\n",
       "    <tr>\n",
       "      <th>...</th>\n",
       "      <td>...</td>\n",
       "      <td>...</td>\n",
       "      <td>...</td>\n",
       "      <td>...</td>\n",
       "      <td>...</td>\n",
       "      <td>...</td>\n",
       "      <td>...</td>\n",
       "      <td>...</td>\n",
       "      <td>...</td>\n",
       "      <td>...</td>\n",
       "      <td>...</td>\n",
       "      <td>...</td>\n",
       "      <td>...</td>\n",
       "      <td>...</td>\n",
       "    </tr>\n",
       "    <tr>\n",
       "      <th>4232</th>\n",
       "      <td>1</td>\n",
       "      <td>0.947368</td>\n",
       "      <td>0</td>\n",
       "      <td>0.000000</td>\n",
       "      <td>0.0</td>\n",
       "      <td>0</td>\n",
       "      <td>1</td>\n",
       "      <td>0</td>\n",
       "      <td>0.108062</td>\n",
       "      <td>0.399527</td>\n",
       "      <td>0.518519</td>\n",
       "      <td>0.184198</td>\n",
       "      <td>0.161616</td>\n",
       "      <td>0.110169</td>\n",
       "    </tr>\n",
       "    <tr>\n",
       "      <th>4233</th>\n",
       "      <td>1</td>\n",
       "      <td>0.473684</td>\n",
       "      <td>1</td>\n",
       "      <td>0.014286</td>\n",
       "      <td>0.0</td>\n",
       "      <td>0</td>\n",
       "      <td>1</td>\n",
       "      <td>0</td>\n",
       "      <td>0.343053</td>\n",
       "      <td>0.451537</td>\n",
       "      <td>0.465608</td>\n",
       "      <td>0.252787</td>\n",
       "      <td>0.222222</td>\n",
       "      <td>0.129944</td>\n",
       "    </tr>\n",
       "    <tr>\n",
       "      <th>4234</th>\n",
       "      <td>1</td>\n",
       "      <td>0.500000</td>\n",
       "      <td>1</td>\n",
       "      <td>0.614286</td>\n",
       "      <td>0.0</td>\n",
       "      <td>0</td>\n",
       "      <td>0</td>\n",
       "      <td>0</td>\n",
       "      <td>0.161235</td>\n",
       "      <td>0.203310</td>\n",
       "      <td>0.338624</td>\n",
       "      <td>0.101066</td>\n",
       "      <td>0.212121</td>\n",
       "      <td>0.079096</td>\n",
       "    </tr>\n",
       "    <tr>\n",
       "      <th>4236</th>\n",
       "      <td>0</td>\n",
       "      <td>0.315789</td>\n",
       "      <td>1</td>\n",
       "      <td>0.214286</td>\n",
       "      <td>0.0</td>\n",
       "      <td>0</td>\n",
       "      <td>0</td>\n",
       "      <td>0</td>\n",
       "      <td>0.166381</td>\n",
       "      <td>0.203310</td>\n",
       "      <td>0.412698</td>\n",
       "      <td>0.087736</td>\n",
       "      <td>0.424242</td>\n",
       "      <td>0.118314</td>\n",
       "    </tr>\n",
       "    <tr>\n",
       "      <th>4237</th>\n",
       "      <td>0</td>\n",
       "      <td>0.526316</td>\n",
       "      <td>0</td>\n",
       "      <td>0.000000</td>\n",
       "      <td>0.0</td>\n",
       "      <td>0</td>\n",
       "      <td>0</td>\n",
       "      <td>0</td>\n",
       "      <td>0.267581</td>\n",
       "      <td>0.236407</td>\n",
       "      <td>0.370370</td>\n",
       "      <td>0.143723</td>\n",
       "      <td>0.363636</td>\n",
       "      <td>0.189266</td>\n",
       "    </tr>\n",
       "  </tbody>\n",
       "</table>\n",
       "<p>4088 rows × 14 columns</p>\n",
       "</div>"
      ],
      "text/plain": [
       "      male       age  currentSmoker  cigsPerDay  BPMeds  prevalentStroke  \\\n",
       "0        1  0.184211              0    0.000000     0.0                0   \n",
       "1        0  0.368421              0    0.000000     0.0                0   \n",
       "2        1  0.421053              1    0.285714     0.0                0   \n",
       "3        0  0.763158              1    0.428571     0.0                0   \n",
       "4        0  0.368421              1    0.328571     0.0                0   \n",
       "...    ...       ...            ...         ...     ...              ...   \n",
       "4232     1  0.947368              0    0.000000     0.0                0   \n",
       "4233     1  0.473684              1    0.014286     0.0                0   \n",
       "4234     1  0.500000              1    0.614286     0.0                0   \n",
       "4236     0  0.315789              1    0.214286     0.0                0   \n",
       "4237     0  0.526316              0    0.000000     0.0                0   \n",
       "\n",
       "      prevalentHyp  diabetes   totChol     sysBP     diaBP       BMI  \\\n",
       "0                0         0  0.140652  0.106383  0.232804  0.277024   \n",
       "1                0         0  0.234991  0.177305  0.349206  0.319680   \n",
       "2                0         0  0.226415  0.208038  0.338624  0.237518   \n",
       "3                1         0  0.192110  0.314421  0.497354  0.316045   \n",
       "4                0         0  0.295026  0.219858  0.380952  0.183228   \n",
       "...            ...       ...       ...       ...       ...       ...   \n",
       "4232             1         0  0.108062  0.399527  0.518519  0.184198   \n",
       "4233             1         0  0.343053  0.451537  0.465608  0.252787   \n",
       "4234             0         0  0.161235  0.203310  0.338624  0.101066   \n",
       "4236             0         0  0.166381  0.203310  0.412698  0.087736   \n",
       "4237             0         0  0.267581  0.236407  0.370370  0.143723   \n",
       "\n",
       "      heartRate   glucose  \n",
       "0      0.363636  0.104520  \n",
       "1      0.515152  0.101695  \n",
       "2      0.313131  0.084746  \n",
       "3      0.212121  0.177966  \n",
       "4      0.414141  0.127119  \n",
       "...         ...       ...  \n",
       "4232   0.161616  0.110169  \n",
       "4233   0.222222  0.129944  \n",
       "4234   0.212121  0.079096  \n",
       "4236   0.424242  0.118314  \n",
       "4237   0.363636  0.189266  \n",
       "\n",
       "[4088 rows x 14 columns]"
      ]
     },
     "execution_count": 23,
     "metadata": {},
     "output_type": "execute_result"
    }
   ],
   "source": [
    "# Displaying features columns \n",
    "\n",
    "df[features]"
   ]
  },
  {
   "cell_type": "code",
   "execution_count": 24,
   "id": "a6d10c3f-d16d-41ca-b1de-67f5ab667093",
   "metadata": {},
   "outputs": [
    {
     "data": {
      "text/plain": [
       "array([[1.        , 0.18421053, 0.        , ..., 0.27702375, 0.36363636,\n",
       "        0.10451977],\n",
       "       [0.        , 0.36842105, 0.        , ..., 0.31968008, 0.51515152,\n",
       "        0.10169492],\n",
       "       [1.        , 0.42105263, 1.        , ..., 0.23751818, 0.31313131,\n",
       "        0.08474576],\n",
       "       ...,\n",
       "       [1.        , 0.5       , 1.        , ..., 0.10106641, 0.21212121,\n",
       "        0.07909605],\n",
       "       [0.        , 0.31578947, 1.        , ..., 0.08773631, 0.42424242,\n",
       "        0.11831404],\n",
       "       [0.        , 0.52631579, 0.        , ..., 0.14372273, 0.36363636,\n",
       "        0.18926554]])"
      ]
     },
     "execution_count": 24,
     "metadata": {},
     "output_type": "execute_result"
    }
   ],
   "source": [
    "# Get the features variable in numpy array\n",
    "df[features].values"
   ]
  },
  {
   "cell_type": "code",
   "execution_count": 25,
   "id": "2b85793f-9162-41be-bbf4-209416229543",
   "metadata": {},
   "outputs": [],
   "source": [
    "# Now, Let's train the model\n",
    "\n",
    "from sklearn.model_selection import train_test_split"
   ]
  },
  {
   "cell_type": "code",
   "execution_count": 26,
   "id": "05ad4f06-60d3-4ed1-9879-0496f477b2c7",
   "metadata": {},
   "outputs": [],
   "source": [
    "# Split the data in 70% and 30% for training and testing the model\n",
    "X_train, X_test, Y_train, Y_test = train_test_split(X, Y, test_size = 0.03)"
   ]
  },
  {
   "cell_type": "code",
   "execution_count": 27,
   "id": "820460ba-c886-4d55-abb7-02ca3fc491cb",
   "metadata": {},
   "outputs": [],
   "source": [
    "# Algorithms abbrevations full form\n",
    "\n",
    "# LOR: Logistic Regression\n",
    "# KNN: K-Nearest Neighbour\n",
    "# DT: Decision Tree\n",
    "# RF: Random Forest\n",
    "# GB: Gradient Boosting\n",
    "# XGB: Extreme Gradient Boosting"
   ]
  },
  {
   "cell_type": "code",
   "execution_count": 28,
   "id": "8994732f-fbc0-4ec8-9c58-68c933d332bc",
   "metadata": {},
   "outputs": [],
   "source": [
    "# In this we are using the LOR, KNN, DT, RF, GB and XGB alogorithm for taining the model\n",
    "\n",
    "from sklearn.linear_model import LogisticRegression \n",
    "from sklearn.neighbors import KNeighborsClassifier \n",
    "from sklearn.tree import DecisionTreeClassifier\n",
    "from sklearn.ensemble import RandomForestClassifier\n",
    "from sklearn.ensemble import GradientBoostingClassifier\n",
    "import xgboost as xgb"
   ]
  },
  {
   "cell_type": "code",
   "execution_count": 29,
   "id": "c913a3b9-2a0b-4dc6-9ef1-cfd9c52207f0",
   "metadata": {},
   "outputs": [],
   "source": [
    "# Here we are creating a model and training the model\n",
    "\n",
    "model_LOR = LogisticRegression(max_iter=500).fit(X_train, Y_train) \n",
    "model_KNN = KNeighborsClassifier(n_neighbors=12).fit(X_train, Y_train)\n",
    "model_DT = DecisionTreeClassifier().fit(X_train, Y_train)\n",
    "model_RF = RandomForestClassifier().fit(X_train, Y_train)\n",
    "model_GB = GradientBoostingClassifier(n_estimators=100, random_state=42).fit(X_train, Y_train)\n",
    "model_XGB = xgb.XGBClassifier().fit(X_train, Y_train)"
   ]
  },
  {
   "cell_type": "code",
   "execution_count": 30,
   "id": "e5f679f9-24d5-49bd-81d7-e729ed7fd877",
   "metadata": {},
   "outputs": [],
   "source": [
    "# Predicting the Test set results\n",
    "\n",
    "Y_pred_LOR = model_LOR.predict(X_test)\n",
    "Y_pred_KNN = model_KNN.predict(X_test)\n",
    "Y_pred_DT = model_DT.predict(X_test)\n",
    "Y_pred_RF = model_RF.predict(X_test)\n",
    "Y_pred_GB = model_GB.predict(X_test)\n",
    "Y_pred_XGB = model_XGB.predict(X_test)"
   ]
  },
  {
   "cell_type": "code",
   "execution_count": 31,
   "id": "baed2c0b-b3ec-4ebf-9240-34486609138e",
   "metadata": {},
   "outputs": [],
   "source": [
    "# Importing accuracy_score from sklearn.metrics\n",
    "\n",
    "from sklearn.metrics import accuracy_score"
   ]
  },
  {
   "cell_type": "code",
   "execution_count": 32,
   "id": "f0eb04be-cf1f-41bf-ada7-aa12ed507ca1",
   "metadata": {},
   "outputs": [],
   "source": [
    "# Calculating the model accuracy\n",
    "# accuracy_score: It is ratio of number of correct output and total number of output\n",
    "\n",
    "acc_LOR = accuracy_score(Y_test, Y_pred_LOR)*100\n",
    "acc_KNN = accuracy_score(Y_test, Y_pred_KNN)*100\n",
    "acc_DT = accuracy_score(Y_test, Y_pred_DT)*100\n",
    "acc_RF = accuracy_score(Y_test, Y_pred_RF)*100\n",
    "acc_GB = accuracy_score(Y_test, Y_pred_GB)*100\n",
    "acc_XGB = accuracy_score(Y_test, Y_pred_XGB)*100"
   ]
  },
  {
   "cell_type": "code",
   "execution_count": 33,
   "id": "4cab76df-36f4-4c63-9862-e61014b97fca",
   "metadata": {},
   "outputs": [
    {
     "name": "stdout",
     "output_type": "stream",
     "text": [
      "The accuracy for LOR is:  85.36585365853658\n",
      "The accuracy for KNN is:  85.36585365853658\n",
      "The accuracy for Decision Tree is:  73.98373983739837\n",
      "The accuracy for Random Forest is:  86.1788617886179\n",
      "The accuracy for Gradient Boosting is:  86.1788617886179\n",
      "The accuracy for Extreme Gradient Boosting is:  86.1788617886179\n"
     ]
    }
   ],
   "source": [
    "# Printing the accuracy of all algorithms\n",
    "\n",
    "print(\"The accuracy for LOR is: \", acc_LOR)\n",
    "print(\"The accuracy for KNN is: \", acc_KNN)\n",
    "print(\"The accuracy for Decision Tree is: \", acc_DT)\n",
    "print(\"The accuracy for Random Forest is: \", acc_RF)\n",
    "print(\"The accuracy for Gradient Boosting is: \", acc_GB)\n",
    "print(\"The accuracy for Extreme Gradient Boosting is: \", acc_XGB)"
   ]
  },
  {
   "cell_type": "code",
   "execution_count": 34,
   "id": "08d8b775-3d85-4b8e-b89b-11cb34d8b57f",
   "metadata": {},
   "outputs": [],
   "source": [
    "# Importing precision_score, recall_score and f1_score\n",
    "\n",
    "from sklearn.metrics import precision_score, recall_score, f1_score"
   ]
  },
  {
   "cell_type": "code",
   "execution_count": 35,
   "id": "6fbe8ad6-404d-4e60-87df-3ecbf9c82ed0",
   "metadata": {},
   "outputs": [],
   "source": [
    "# Calculating the model precision_score, recall_score and f1_score values for LOR\n",
    "\n",
    "precision_LOR = precision_score(Y_test, Y_pred_LOR)\n",
    "recall_LOR = recall_score(Y_test, Y_pred_LOR)\n",
    "f1_LOR = f1_score(Y_test, Y_pred_LOR)"
   ]
  },
  {
   "cell_type": "code",
   "execution_count": 36,
   "id": "76fa658f-cc55-4517-96fc-fd396c711927",
   "metadata": {},
   "outputs": [
    {
     "name": "stdout",
     "output_type": "stream",
     "text": [
      "Precision of LOR: 100.0\n",
      "Recall of LOR: 10.0\n",
      "F1 Score of LOR: 18.181818181818183\n"
     ]
    }
   ],
   "source": [
    "# Printing the precision_score, recall_score and f1_score values for LOR algorithms\n",
    "\n",
    "print(\"Precision of LOR:\", precision_LOR*100)\n",
    "print(\"Recall of LOR:\", recall_LOR*100)\n",
    "print(\"F1 Score of LOR:\", f1_LOR*100)"
   ]
  },
  {
   "cell_type": "code",
   "execution_count": 37,
   "id": "13f79edc-b84b-4d87-bdfe-25f9962c381d",
   "metadata": {},
   "outputs": [],
   "source": [
    "# Calculating the model precision_score, recall_score and f1_score values for KNN\n",
    "\n",
    "precision_KNN = precision_score(Y_test, Y_pred_KNN, zero_division=1)\n",
    "recall_KNN = recall_score(Y_test, Y_pred_KNN, zero_division=1)\n",
    "f1_KNN = f1_score(Y_test, Y_pred_KNN, zero_division=1)\n"
   ]
  },
  {
   "cell_type": "code",
   "execution_count": 38,
   "id": "9bd0862c-3c1d-4ec6-8f3e-2c494e48fe2e",
   "metadata": {},
   "outputs": [
    {
     "name": "stdout",
     "output_type": "stream",
     "text": [
      "Precision of KNN: 100.0\n",
      "Recall of KNN: 10.0\n",
      "F1 Score of KNN: 18.181818181818183\n"
     ]
    }
   ],
   "source": [
    "# Printing the precision_score, recall_score and f1_score values for KNN algorithms\n",
    "\n",
    "print(\"Precision of KNN:\", precision_KNN*100)\n",
    "print(\"Recall of KNN:\", recall_KNN*100)\n",
    "print(\"F1 Score of KNN:\", f1_KNN*100)"
   ]
  },
  {
   "cell_type": "code",
   "execution_count": 39,
   "id": "d11c58cc-129e-44b7-bc0d-ca248330da87",
   "metadata": {},
   "outputs": [],
   "source": [
    "# Calculating the model precision_score, recall_score and f1_score values for DT\n",
    "\n",
    "precision_DT = precision_score(Y_test, Y_pred_DT)\n",
    "recall_DT = recall_score(Y_test, Y_pred_DT)\n",
    "f1_DT = f1_score(Y_test, Y_pred_DT)"
   ]
  },
  {
   "cell_type": "code",
   "execution_count": 40,
   "id": "8425a62e-6667-4cb1-86da-0a6e012ff558",
   "metadata": {},
   "outputs": [
    {
     "name": "stdout",
     "output_type": "stream",
     "text": [
      "Precision of DT: 20.0\n",
      "Recall of DT: 20.0\n",
      "F1 Score of DT: 20.000000000000004\n"
     ]
    }
   ],
   "source": [
    "# Printing the precision_score, recall_score and f1_score values for DT algorithms\n",
    "\n",
    "print(\"Precision of DT:\", precision_DT*100)\n",
    "print(\"Recall of DT:\", recall_DT*100)   \n",
    "print(\"F1 Score of DT:\", f1_DT*100)"
   ]
  },
  {
   "cell_type": "code",
   "execution_count": 41,
   "id": "30ffae06-ca8b-4ca5-b12d-e9abe29555e8",
   "metadata": {},
   "outputs": [],
   "source": [
    "# Calculating the model precision_score, recall_score and f1_score values for RF\n",
    "\n",
    "precision_RF = precision_score(Y_test, Y_pred_RF)\n",
    "recall_RF = recall_score(Y_test, Y_pred_RF)\n",
    "f1_RF = f1_score(Y_test, Y_pred_RF)"
   ]
  },
  {
   "cell_type": "code",
   "execution_count": 42,
   "id": "638df10b-5e1d-4602-b9c2-a851f0598283",
   "metadata": {},
   "outputs": [
    {
     "name": "stdout",
     "output_type": "stream",
     "text": [
      "Precision of RF: 100.0\n",
      "Recall of RF: 15.0\n",
      "F1 Score of RF: 26.08695652173913\n"
     ]
    }
   ],
   "source": [
    "# Printing the precision_score, recall_score and f1_score values for RF algorithms\n",
    "\n",
    "print(\"Precision of RF:\", precision_RF*100)\n",
    "print(\"Recall of RF:\", recall_RF*100)\n",
    "print(\"F1 Score of RF:\", f1_RF*100)"
   ]
  },
  {
   "cell_type": "code",
   "execution_count": 43,
   "id": "534e8028-4cc9-4e72-92fd-952b7850f5d4",
   "metadata": {},
   "outputs": [],
   "source": [
    "# Calculating the model precision_score, recall_score and f1_score values for GB\n",
    "\n",
    "precision_GB = precision_score(Y_test, Y_pred_GB)\n",
    "recall_GB = recall_score(Y_test, Y_pred_GB)\n",
    "f1_GB = f1_score(Y_test, Y_pred_GB)"
   ]
  },
  {
   "cell_type": "code",
   "execution_count": 44,
   "id": "9706b7ab-2288-46ef-975e-e38ea607620e",
   "metadata": {},
   "outputs": [
    {
     "name": "stdout",
     "output_type": "stream",
     "text": [
      "Precision of GB: 100.0\n",
      "Recall of GB: 15.0\n",
      "F1 Score of GB: 26.08695652173913\n"
     ]
    }
   ],
   "source": [
    "# Printing the precision_score, recall_score and f1_score values for GB algorithms\n",
    "\n",
    "print(\"Precision of GB:\", precision_GB*100)\n",
    "print(\"Recall of GB:\", recall_GB*100)\n",
    "print(\"F1 Score of GB:\", f1_GB*100)"
   ]
  },
  {
   "cell_type": "code",
   "execution_count": 45,
   "id": "78ccb5f6-2fd5-422b-a7e7-4a11bd192103",
   "metadata": {},
   "outputs": [],
   "source": [
    "# Calculating the model precision_score, recall_score and f1_score values for XGB\n",
    "\n",
    "precision_XGB = precision_score(Y_test, Y_pred_XGB)\n",
    "recall_XGB = recall_score(Y_test, Y_pred_GB)\n",
    "f1_XGB = f1_score(Y_test, Y_pred_XGB)"
   ]
  },
  {
   "cell_type": "code",
   "execution_count": 46,
   "id": "52efc320-9d0e-4838-9628-1d394a82ffa9",
   "metadata": {},
   "outputs": [
    {
     "name": "stdout",
     "output_type": "stream",
     "text": [
      "Precision of XGB: 71.42857142857143\n",
      "Recall of XGB: 15.0\n",
      "F1 Score of XGB: 37.03703703703704\n"
     ]
    }
   ],
   "source": [
    "# Printing the precision_score, recall_score and f1_score values for XGB algorithms\n",
    "\n",
    "print(\"Precision of XGB:\", precision_XGB*100)\n",
    "print(\"Recall of XGB:\", recall_XGB*100)\n",
    "print(\"F1 Score of XGB:\", f1_XGB*100)"
   ]
  },
  {
   "cell_type": "code",
   "execution_count": 47,
   "id": "a0b99e05-d314-452e-ab07-b9382b6b7532",
   "metadata": {},
   "outputs": [],
   "source": [
    "# Extreme Gradient Boosting (XGBoost) is selected due to:\n",
    "# Highest F1 Score: Balances precision and recall better than other models.\n",
    "# Good Precision: Accurate when predicting positive cases.\n",
    "# Robust Performance: Handles complex data well.\n",
    "# Flexibility: Can be fine-tuned to improve recall and overall performance.\n",
    "# Handles Imbalance: Effective with techniques to address class imbalance."
   ]
  },
  {
   "cell_type": "code",
   "execution_count": 48,
   "id": "50b1d080-c02c-4cc1-bac0-66174930cf10",
   "metadata": {},
   "outputs": [],
   "source": [
    "# Creating some plots\n",
    "\n",
    "from matplotlib import pyplot as plt\n",
    "import seaborn as sns"
   ]
  },
  {
   "cell_type": "code",
   "execution_count": 49,
   "id": "9f87150c-e467-4efd-914d-dcd0b843c0cd",
   "metadata": {},
   "outputs": [
    {
     "data": {
      "image/png": "[encoded data removed]",
      "text/plain": [
       "<Figure size 800x800 with 1 Axes>"
      ]
     },
     "metadata": {},
     "output_type": "display_data"
    }
   ],
   "source": [
    "# Pie chart for the distribution of CHD risk\n",
    "\n",
    "labels = df['TenYearCHD'].value_counts().index\n",
    "sizes = df['TenYearCHD'].value_counts().values\n",
    "plt.figure(figsize=(8, 8))\n",
    "plt.pie(sizes, labels=labels, autopct='%1.1f%%', startangle=140)\n",
    "plt.title('Pie Chart: Distribution of CHD Risk')\n",
    "plt.show()\n"
   ]
  },
  {
   "cell_type": "code",
   "execution_count": 50,
   "id": "f572ca00-b8dd-4775-832f-03b5b100bb59",
   "metadata": {},
   "outputs": [
    {
     "data": {
      "image/png": "[encoded data removed]",
      "text/plain": [
       "<Figure size 1000x600 with 1 Axes>"
      ]
     },
     "metadata": {},
     "output_type": "display_data"
    }
   ],
   "source": [
    "# Bar plot to compare the number of smokers and non-smokers\n",
    "\n",
    "plt.figure(figsize=(10, 6))\n",
    "sns.countplot(x='currentSmoker', hue='TenYearCHD', data=df)\n",
    "plt.title('Bar Plot: Smokers vs. Non-Smokers and CHD Risk')\n",
    "plt.xlabel('Current Smoker')\n",
    "plt.ylabel('Count')\n",
    "plt.show()"
   ]
  },
  {
   "cell_type": "code",
   "execution_count": 51,
   "id": "ea1d7ad4-8d8b-4b7c-a0de-ab945bbef330",
   "metadata": {},
   "outputs": [
    {
     "data": {
      "image/png": "[encoded data removed]",
      "text/plain": [
       "<Figure size 1000x600 with 1 Axes>"
      ]
     },
     "metadata": {},
     "output_type": "display_data"
    }
   ],
   "source": [
    "# Box plot to see the distribution of cholesterol levels by TenYearCHD\n",
    "\n",
    "plt.figure(figsize=(10, 6))\n",
    "sns.boxplot(x='TenYearCHD', y='totChol', data=df)\n",
    "plt.title('Box Plot: Cholesterol Level by TenYearCHD')\n",
    "plt.xlabel('10-Year CHD Risk')\n",
    "plt.ylabel('Total Cholesterol')\n",
    "plt.show()"
   ]
  },
  {
   "cell_type": "code",
   "execution_count": 52,
   "id": "6d18dc69-b12f-4d46-b796-703e319d85fd",
   "metadata": {},
   "outputs": [
    {
     "data": {
      "text/html": [
       "<style>#sk-container-id-1 {color: black;background-color: white;}#sk-container-id-1 pre{padding: 0;}#sk-container-id-1 div.sk-toggleable {background-color: white;}#sk-container-id-1 label.sk-toggleable__label {cursor: pointer;display: block;width: 100%;margin-bottom: 0;padding: 0.3em;box-sizing: border-box;text-align: center;}#sk-container-id-1 label.sk-toggleable__label-arrow:before {content: \"▸\";float: left;margin-right: 0.25em;color: #696969;}#sk-container-id-1 label.sk-toggleable__label-arrow:hover:before {color: black;}#sk-container-id-1 div.sk-estimator:hover label.sk-toggleable__label-arrow:before {color: black;}#sk-container-id-1 div.sk-toggleable__content {max-height: 0;max-width: 0;overflow: hidden;text-align: left;background-color: #f0f8ff;}#sk-container-id-1 div.sk-toggleable__content pre {margin: 0.2em;color: black;border-radius: 0.25em;background-color: #f0f8ff;}#sk-container-id-1 input.sk-toggleable__control:checked~div.sk-toggleable__content {max-height: 200px;max-width: 100%;overflow: auto;}#sk-container-id-1 input.sk-toggleable__control:checked~label.sk-toggleable__label-arrow:before {content: \"▾\";}#sk-container-id-1 div.sk-estimator input.sk-toggleable__control:checked~label.sk-toggleable__label {background-color: #d4ebff;}#sk-container-id-1 div.sk-label input.sk-toggleable__control:checked~label.sk-toggleable__label {background-color: #d4ebff;}#sk-container-id-1 input.sk-hidden--visually {border: 0;clip: rect(1px 1px 1px 1px);clip: rect(1px, 1px, 1px, 1px);height: 1px;margin: -1px;overflow: hidden;padding: 0;position: absolute;width: 1px;}#sk-container-id-1 div.sk-estimator {font-family: monospace;background-color: #f0f8ff;border: 1px dotted black;border-radius: 0.25em;box-sizing: border-box;margin-bottom: 0.5em;}#sk-container-id-1 div.sk-estimator:hover {background-color: #d4ebff;}#sk-container-id-1 div.sk-parallel-item::after {content: \"\";width: 100%;border-bottom: 1px solid gray;flex-grow: 1;}#sk-container-id-1 div.sk-label:hover label.sk-toggleable__label {background-color: #d4ebff;}#sk-container-id-1 div.sk-serial::before {content: \"\";position: absolute;border-left: 1px solid gray;box-sizing: border-box;top: 0;bottom: 0;left: 50%;z-index: 0;}#sk-container-id-1 div.sk-serial {display: flex;flex-direction: column;align-items: center;background-color: white;padding-right: 0.2em;padding-left: 0.2em;position: relative;}#sk-container-id-1 div.sk-item {position: relative;z-index: 1;}#sk-container-id-1 div.sk-parallel {display: flex;align-items: stretch;justify-content: center;background-color: white;position: relative;}#sk-container-id-1 div.sk-item::before, #sk-container-id-1 div.sk-parallel-item::before {content: \"\";position: absolute;border-left: 1px solid gray;box-sizing: border-box;top: 0;bottom: 0;left: 50%;z-index: -1;}#sk-container-id-1 div.sk-parallel-item {display: flex;flex-direction: column;z-index: 1;position: relative;background-color: white;}#sk-container-id-1 div.sk-parallel-item:first-child::after {align-self: flex-end;width: 50%;}#sk-container-id-1 div.sk-parallel-item:last-child::after {align-self: flex-start;width: 50%;}#sk-container-id-1 div.sk-parallel-item:only-child::after {width: 0;}#sk-container-id-1 div.sk-dashed-wrapped {border: 1px dashed gray;margin: 0 0.4em 0.5em 0.4em;box-sizing: border-box;padding-bottom: 0.4em;background-color: white;}#sk-container-id-1 div.sk-label label {font-family: monospace;font-weight: bold;display: inline-block;line-height: 1.2em;}#sk-container-id-1 div.sk-label-container {text-align: center;}#sk-container-id-1 div.sk-container {/* jupyter's `normalize.less` sets `[hidden] { display: none; }` but bootstrap.min.css set `[hidden] { display: none !important; }` so we also need the `!important` here to be able to override the default hidden behavior on the sphinx rendered scikit-learn.org. See: https://github.com/scikit-learn/scikit-learn/issues/21755 */display: inline-block !important;position: relative;}#sk-container-id-1 div.sk-text-repr-fallback {display: none;}</style><div id=\"sk-container-id-1\" class=\"sk-top-container\"><div class=\"sk-text-repr-fallback\"><pre>XGBClassifier(base_score=None, booster=None, callbacks=None,\n",
       "              colsample_bylevel=None, colsample_bynode=None,\n",
       "              colsample_bytree=None, device=None, early_stopping_rounds=None,\n",
       "              enable_categorical=False, eval_metric=None, feature_types=None,\n",
       "              gamma=None, grow_policy=None, importance_type=None,\n",
       "              interaction_constraints=None, learning_rate=None, max_bin=None,\n",
       "              max_cat_threshold=None, max_cat_to_onehot=None,\n",
       "              max_delta_step=None, max_depth=None, max_leaves=None,\n",
       "              min_child_weight=None, missing=nan, monotone_constraints=None,\n",
       "              multi_strategy=None, n_estimators=None, n_jobs=None,\n",
       "              num_parallel_tree=None, random_state=None, ...)</pre><b>In a Jupyter environment, please rerun this cell to show the HTML representation or trust the notebook. <br />On GitHub, the HTML representation is unable to render, please try loading this page with nbviewer.org.</b></div><div class=\"sk-container\" hidden><div class=\"sk-item\"><div class=\"sk-estimator sk-toggleable\"><input class=\"sk-toggleable__control sk-hidden--visually\" id=\"sk-estimator-id-1\" type=\"checkbox\" checked><label for=\"sk-estimator-id-1\" class=\"sk-toggleable__label sk-toggleable__label-arrow\">XGBClassifier</label><div class=\"sk-toggleable__content\"><pre>XGBClassifier(base_score=None, booster=None, callbacks=None,\n",
       "              colsample_bylevel=None, colsample_bynode=None,\n",
       "              colsample_bytree=None, device=None, early_stopping_rounds=None,\n",
       "              enable_categorical=False, eval_metric=None, feature_types=None,\n",
       "              gamma=None, grow_policy=None, importance_type=None,\n",
       "              interaction_constraints=None, learning_rate=None, max_bin=None,\n",
       "              max_cat_threshold=None, max_cat_to_onehot=None,\n",
       "              max_delta_step=None, max_depth=None, max_leaves=None,\n",
       "              min_child_weight=None, missing=nan, monotone_constraints=None,\n",
       "              multi_strategy=None, n_estimators=None, n_jobs=None,\n",
       "              num_parallel_tree=None, random_state=None, ...)</pre></div></div></div></div></div>"
      ],
      "text/plain": [
       "XGBClassifier(base_score=None, booster=None, callbacks=None,\n",
       "              colsample_bylevel=None, colsample_bynode=None,\n",
       "              colsample_bytree=None, device=None, early_stopping_rounds=None,\n",
       "              enable_categorical=False, eval_metric=None, feature_types=None,\n",
       "              gamma=None, grow_policy=None, importance_type=None,\n",
       "              interaction_constraints=None, learning_rate=None, max_bin=None,\n",
       "              max_cat_threshold=None, max_cat_to_onehot=None,\n",
       "              max_delta_step=None, max_depth=None, max_leaves=None,\n",
       "              min_child_weight=None, missing=nan, monotone_constraints=None,\n",
       "              multi_strategy=None, n_estimators=None, n_jobs=None,\n",
       "              num_parallel_tree=None, random_state=None, ...)"
      ]
     },
     "execution_count": 52,
     "metadata": {},
     "output_type": "execute_result"
    }
   ],
   "source": [
    "model_XGB"
   ]
  },
  {
   "cell_type": "code",
   "execution_count": 53,
   "id": "8c5df161-aa7c-4cfe-842a-fb0607b177b2",
   "metadata": {},
   "outputs": [
    {
     "data": {
      "text/plain": [
       "'C:\\\\Users\\\\Lenovo\\\\OneDrive\\\\Desktop\\\\Juypter_projects'"
      ]
     },
     "execution_count": 53,
     "metadata": {},
     "output_type": "execute_result"
    }
   ],
   "source": [
    "pwd"
   ]
  },
  {
   "cell_type": "code",
   "execution_count": 54,
   "id": "a40194e3-ba02-4c25-bb9d-ac22dc9519b5",
   "metadata": {},
   "outputs": [],
   "source": [
    "# Saving the model\n",
    "\n",
    "import joblib"
   ]
  },
  {
   "cell_type": "code",
   "execution_count": 55,
   "id": "4d8d8c1e-a20c-41cb-90bd-99bc1147de92",
   "metadata": {},
   "outputs": [
    {
     "data": {
      "text/plain": [
       "['heart_disease_model.pkl']"
      ]
     },
     "execution_count": 55,
     "metadata": {},
     "output_type": "execute_result"
    }
   ],
   "source": [
    "# Save the model as pickel file\n",
    "\n",
    "joblib.dump(model_GB, \"heart_disease_model.pkl\")"
   ]
  },
  {
   "cell_type": "code",
   "execution_count": 56,
   "id": "7a1a0ad9-636c-44b7-b5dd-6615bd77eebd",
   "metadata": {},
   "outputs": [],
   "source": [
    "# load the model from the file\n",
    "\n",
    "loaded_model = joblib.load(\"heart_disease_model.pkl\")"
   ]
  }
 ],
 "metadata": {
  "kernelspec": {
   "display_name": "Python 3 (ipykernel)",
   "language": "python",
   "name": "python3"
  },
  "language_info": {
   "codemirror_mode": {
    "name": "ipython",
    "version": 3
   },
   "file_extension": ".py",
   "mimetype": "text/x-python",
   "name": "python",
   "nbconvert_exporter": "python",
   "pygments_lexer": "ipython3",
   "version": "3.11.2"
  }
 },
 "nbformat": 4,
 "nbformat_minor": 5
}
